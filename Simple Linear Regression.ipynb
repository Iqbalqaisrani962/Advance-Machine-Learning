{
 "cells": [
  {
   "cell_type": "markdown",
   "id": "6882974f",
   "metadata": {},
   "source": [
    "### Math Behind Simple Linear Regression"
   ]
  },
  {
   "cell_type": "markdown",
   "id": "430ab9a0",
   "metadata": {},
   "source": [
    "#### Variance and Standard Deviation\n",
    "- Variance tells us how much a single variable varies with respect to its mean\n",
    "- Variance tells us how much data is spread around the center of distribution (Mean)\n",
    "- Variance does not give any information, so we calculate any standard deviation\n",
    "  Standard Deviation = sqrt((sum(x-xbar)**2)/(n-1))"
   ]
  },
  {
   "cell_type": "code",
   "execution_count": 9,
   "id": "334106c9",
   "metadata": {},
   "outputs": [
    {
     "name": "stdout",
     "output_type": "stream",
     "text": [
      "20.18662923818635\n"
     ]
    }
   ],
   "source": [
    "import numpy as np\n",
    "x = np.array([0,5,20,40,45])\n",
    "n = len(x)\n",
    "sd = np.sqrt(np.sum((x-np.mean(x))**2)/(n-1))\n",
    "print(sd)"
   ]
  },
  {
   "cell_type": "code",
   "execution_count": 10,
   "id": "6e2cd389",
   "metadata": {},
   "outputs": [
    {
     "name": "stdout",
     "output_type": "stream",
     "text": [
      "20.18662923818635\n"
     ]
    }
   ],
   "source": [
    "sd1 = np.std(x, ddof=1)\n",
    "print(sd1)"
   ]
  },
  {
   "cell_type": "markdown",
   "id": "cb1d1280",
   "metadata": {},
   "source": [
    "- Less standard deviations means that most values in the dataset are close to the mean\n",
    "- High Standard deviations means that most value are spread out broadly from the mean"
   ]
  },
  {
   "cell_type": "markdown",
   "id": "fadf429d",
   "metadata": {},
   "source": [
    "#### Covariance\n",
    "- Covariance tells us that how two variables x, y are related and to each other and how their mean varies together\n",
    "- Covariance measures the direction of the relationship between two random variables \n",
    "- Its value range from negative infinity to positive infinity\n",
    "- (sum(x-mean(x))(y-mean(y)))/(n-1)"
   ]
  },
  {
   "cell_type": "code",
   "execution_count": 17,
   "id": "2902e120",
   "metadata": {},
   "outputs": [
    {
     "name": "stdout",
     "output_type": "stream",
     "text": [
      "-25.5952380952381\n"
     ]
    }
   ],
   "source": [
    "import numpy as np\n",
    "import seaborn as sns\n",
    "x  = np.array([1,0,2,6,4,3,3])\n",
    "y= np.array([95,90,90,55,70,80,85])\n",
    "\n",
    "n = len(x)\n",
    "cov = (np.sum( np.multiply(x-np.mean(x), y-np.mean(y)) ))/(n-1)\n",
    "print(cov)"
   ]
  },
  {
   "cell_type": "code",
   "execution_count": 18,
   "id": "5bc68acb",
   "metadata": {},
   "outputs": [
    {
     "name": "stdout",
     "output_type": "stream",
     "text": [
      "[[  3.9047619  -25.5952381 ]\n",
      " [-25.5952381  195.23809524]]\n"
     ]
    },
    {
     "data": {
      "text/plain": [
       "<Axes: >"
      ]
     },
     "execution_count": 18,
     "metadata": {},
     "output_type": "execute_result"
    },
    {
     "data": {
      "image/png": "[encoded data removed]",
      "text/plain": [
       "<Figure size 640x480 with 1 Axes>"
      ]
     },
     "metadata": {},
     "output_type": "display_data"
    }
   ],
   "source": [
    "cov1 = np.cov(x,y)\n",
    "print(cov1)\n",
    "sns.scatterplot(x=x,y=y)"
   ]
  },
  {
   "cell_type": "markdown",
   "id": "3ae1bb5b",
   "metadata": {},
   "source": [
    "- Positive covariance indicates that there is a positive relationship between two variables (move in the same direction)\n",
    "- Negative covariance indicates that there is a negative relationship between two variables (move in the opposite direction)\n",
    "- Zero covariance indicates that there is no relationship between variables"
   ]
  },
  {
   "cell_type": "markdown",
   "id": "71fd0d96",
   "metadata": {},
   "source": [
    "#### Correlation\n",
    "- Correlation tells us the direction as well as the magnitude of the relationship between two independent variables\n",
    "- Its value range from -1 to +1\n",
    "- Correlation = cov(x,y) / (std(x)*std(y))\n",
    "- Correlation = sum(x-mean(x))(y-mean(y))/(sqrt((x-mean(x))**2)(sqrt((y-mean(y))**2)"
   ]
  },
  {
   "cell_type": "code",
   "execution_count": 25,
   "id": "23d82fd8",
   "metadata": {},
   "outputs": [
    {
     "name": "stdout",
     "output_type": "stream",
     "text": [
      "0.9821465634751865\n"
     ]
    },
    {
     "data": {
      "text/plain": [
       "<Axes: >"
      ]
     },
     "execution_count": 25,
     "metadata": {},
     "output_type": "execute_result"
    },
    {
     "data": {
      "image/png": "[encoded data removed]",
      "text/plain": [
       "<Figure size 640x480 with 1 Axes>"
      ]
     },
     "metadata": {},
     "output_type": "display_data"
    }
   ],
   "source": [
    "x  = np.array([1, 2, 3, 4, 5, 6, 7.]) # study hours \n",
    "y = np.array([1.4, 1.6, 2.5, 2.6, 3.5, 3.7, 4.0])\n",
    "corr = (np.sum(np.multiply(x-np.mean(x), y-np.mean(y))))/(np.multiply((np.sqrt(np.sum((x-np.mean(x))**2))), np.sqrt(np.sum((y-np.mean(y))**2))))\n",
    "print(corr)\n",
    "sns.scatterplot(x=x,y=y)"
   ]
  },
  {
   "cell_type": "markdown",
   "id": "a22ed17c",
   "metadata": {},
   "source": [
    "- Positve 1 shows that there is strong +ve relation and move in the same direction\n",
    "- Zero shows that there is no relationship\n",
    "- Negative 1 shows that is a strong reverse relation (move in the opposite direction)"
   ]
  },
  {
   "cell_type": "markdown",
   "id": "23f3ce4c",
   "metadata": {},
   "source": [
    "### Regression\n",
    "- It relates a dependent variable with one or more independent variables\n",
    "- It is used to predict/forcast the value of dependent variable based on the known values of the independent variables\n",
    "- Output variable is a real value like salary, cost, gpa, "
   ]
  },
  {
   "cell_type": "markdown",
   "id": "0453e990",
   "metadata": {},
   "source": [
    "### Simple Linear Regression\n",
    "- It is a type of model where the relationship between a dependent variable and one or more independent variable is assumed to be linear\n",
    "- There are two types of linear regression\n",
    "- ***Simple Linear Regression***\n",
    "- One dependent and one independent variable \n",
    "- ***Multiple Linear Regression***\n",
    "- More than one independent variable and one dependent variable"
   ]
  },
  {
   "cell_type": "markdown",
   "id": "e36d6862",
   "metadata": {},
   "source": [
    "### Ordinary Least Square Method\n",
    "- The process of fitting the best fit line is called ordinary least square method\n",
    "- It is a techniques that works by minimizing the sum of the squares of the differences between the observed depended variable and the independent variable "
   ]
  },
  {
   "cell_type": "markdown",
   "id": "e661cd01",
   "metadata": {},
   "source": [
    "beta1 = (sum(x-mean(x))(y-mean(y)))/(sum(x-mean(x))**2)\n",
    "beta0 = mean(y)-beta1*x"
   ]
  },
  {
   "cell_type": "code",
   "execution_count": 1,
   "id": "4f638e31",
   "metadata": {},
   "outputs": [
    {
     "data": {
      "text/html": [
       "<div>\n",
       "<style scoped>\n",
       "    .dataframe tbody tr th:only-of-type {\n",
       "        vertical-align: middle;\n",
       "    }\n",
       "\n",
       "    .dataframe tbody tr th {\n",
       "        vertical-align: top;\n",
       "    }\n",
       "\n",
       "    .dataframe thead th {\n",
       "        text-align: right;\n",
       "    }\n",
       "</style>\n",
       "<table border=\"1\" class=\"dataframe\">\n",
       "  <thead>\n",
       "    <tr style=\"text-align: right;\">\n",
       "      <th></th>\n",
       "      <th>study_hours</th>\n",
       "      <th>gpa</th>\n",
       "    </tr>\n",
       "  </thead>\n",
       "  <tbody>\n",
       "    <tr>\n",
       "      <th>0</th>\n",
       "      <td>1.0</td>\n",
       "      <td>1.4</td>\n",
       "    </tr>\n",
       "    <tr>\n",
       "      <th>1</th>\n",
       "      <td>2.0</td>\n",
       "      <td>1.6</td>\n",
       "    </tr>\n",
       "    <tr>\n",
       "      <th>2</th>\n",
       "      <td>3.0</td>\n",
       "      <td>2.5</td>\n",
       "    </tr>\n",
       "    <tr>\n",
       "      <th>3</th>\n",
       "      <td>4.0</td>\n",
       "      <td>2.6</td>\n",
       "    </tr>\n",
       "    <tr>\n",
       "      <th>4</th>\n",
       "      <td>5.0</td>\n",
       "      <td>3.5</td>\n",
       "    </tr>\n",
       "    <tr>\n",
       "      <th>5</th>\n",
       "      <td>6.0</td>\n",
       "      <td>3.7</td>\n",
       "    </tr>\n",
       "    <tr>\n",
       "      <th>6</th>\n",
       "      <td>7.0</td>\n",
       "      <td>4.0</td>\n",
       "    </tr>\n",
       "  </tbody>\n",
       "</table>\n",
       "</div>"
      ],
      "text/plain": [
       "   study_hours  gpa\n",
       "0          1.0  1.4\n",
       "1          2.0  1.6\n",
       "2          3.0  2.5\n",
       "3          4.0  2.6\n",
       "4          5.0  3.5\n",
       "5          6.0  3.7\n",
       "6          7.0  4.0"
      ]
     },
     "execution_count": 1,
     "metadata": {},
     "output_type": "execute_result"
    }
   ],
   "source": [
    "import pandas as pd\n",
    "import numpy as np\n",
    "import seaborn as sns\n",
    "df = pd.read_csv('datasets/study-hours.csv')\n",
    "df"
   ]
  },
  {
   "cell_type": "code",
   "execution_count": 5,
   "id": "24cec588",
   "metadata": {},
   "outputs": [],
   "source": [
    "x = np.array(df['study_hours'])\n",
    "y = np.array(df['gpa'])"
   ]
  },
  {
   "cell_type": "code",
   "execution_count": 18,
   "id": "b560f3da",
   "metadata": {
    "scrolled": true
   },
   "outputs": [
    {
     "name": "stdout",
     "output_type": "stream",
     "text": [
      "0.4642857142857144 0.8999999999999995\n"
     ]
    }
   ],
   "source": [
    "numerator = np.sum((x-np.mean(x))*(y-np.mean(y)))\n",
    "denomirator = np.sum((x-np.mean(x))**2)\n",
    "beta1 = numerator/denomirator\n",
    "beta0 = np.mean(y)-beta1*np.mean(x)\n",
    "print(beta1, beta0)\n",
    "# sns.scatterplot(x=x,y=y)"
   ]
  },
  {
   "cell_type": "code",
   "execution_count": 17,
   "id": "5b480278",
   "metadata": {},
   "outputs": [
    {
     "data": {
      "image/png": "[encoded data removed]",
      "text/plain": [
       "<Figure size 640x480 with 1 Axes>"
      ]
     },
     "metadata": {},
     "output_type": "display_data"
    }
   ],
   "source": [
    "# xpointsofline = np.linspace(-1, 7, 10)\n",
    "# ypointsofline = beta0 + beta1 * xpointsofline\n",
    "# sns.scatterplot(x=xpointsofline, y=ypointsofline);"
   ]
  },
  {
   "cell_type": "code",
   "execution_count": 19,
   "id": "60a78d0b",
   "metadata": {},
   "outputs": [
    {
     "name": "stdout",
     "output_type": "stream",
     "text": [
      "2.9892857142857143\n"
     ]
    }
   ],
   "source": [
    "y = beta0 + beta1*4.5\n",
    "print(y)"
   ]
  },
  {
   "cell_type": "markdown",
   "id": "26a2fb79",
   "metadata": {},
   "source": [
    "#### Evaluation of the Regression Models"
   ]
  },
  {
   "cell_type": "code",
   "execution_count": 5,
   "id": "1fdc2878",
   "metadata": {},
   "outputs": [],
   "source": [
    "x = np.array(df['study_hours'])\n",
    "y = np.array(df['gpa'])\n",
    "numerator = np.sum((x-np.mean(x))*(y-np.mean(y)))\n",
    "denomirator = np.sum((x-np.mean(x))**2)\n",
    "beta1 = numerator/denomirator\n",
    "beta0 = np.mean(y)-beta1*np.mean(x)"
   ]
  },
  {
   "cell_type": "code",
   "execution_count": null,
   "id": "6614da6d",
   "metadata": {},
   "outputs": [],
   "source": [
    "Sum of Square due to Error = SSE = np.sum((y-preY)**2)\n",
    "Sum of Square due to Regression = SSR = np.sum((preY-yhat)**2)\n",
    "Total sum of Square = SST = np.sum((y-hhat)**2)\n",
    "Mean Absolute Error = MAE = (np.sum(abs(y-preY)))/n\n",
    "Mean Square Error = MSE = (np.sum((y-PreY)**2))/n\n",
    "Root Mean Sqaure Error = RMSE = np.sqrt((np.sum((y-PreY)**2))/n)"
   ]
  },
  {
   "cell_type": "code",
   "execution_count": 10,
   "id": "650cb81a",
   "metadata": {},
   "outputs": [],
   "source": [
    "preY = beta0 + beta1 * x\n",
    "yhat = np.mean(y)\n",
    "n = len(y)"
   ]
  },
  {
   "cell_type": "code",
   "execution_count": 15,
   "id": "74df1658",
   "metadata": {},
   "outputs": [
    {
     "name": "stdout",
     "output_type": "stream",
     "text": [
      "SSE:  0.22142857142857145 SSR:  6.0357142857142865 SST:  6.257142857142858 MAE:  0.15306122448979598 MAE:  0.031632653061224494 RMSE:  0.1778557085426962 R2:  0.9646118721461188\n"
     ]
    }
   ],
   "source": [
    "SSE = np.sum((y-preY)**2)\n",
    "SSR = np.sum((preY-yhat)**2)\n",
    "SST = np.sum((y-yhat)**2)\n",
    "MAE = (np.sum(abs(y-preY)))/n\n",
    "MSE = (np.sum((y-preY)**2))/n\n",
    "RMSE = np.sqrt((np.sum((y-preY)**2))/n)\n",
    "r2 = 1 - (SSE/SST)\n",
    "print(\"SSE: \", SSE, \"SSR: \", SSR, \"SST: \", SST, \"MAE: \", MAE, \"MAE: \", MSE, \"RMSE: \", RMSE, \"R2: \", r2)"
   ]
  }
 ],
 "metadata": {
  "kernelspec": {
   "display_name": "Python 3 (ipykernel)",
   "language": "python",
   "name": "python3"
  },
  "language_info": {
   "codemirror_mode": {
    "name": "ipython",
    "version": 3
   },
   "file_extension": ".py",
   "mimetype": "text/x-python",
   "name": "python",
   "nbconvert_exporter": "python",
   "pygments_lexer": "ipython3",
   "version": "3.10.9"
  }
 },
 "nbformat": 4,
 "nbformat_minor": 5
}
