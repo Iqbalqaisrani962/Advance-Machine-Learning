{
 "cells": [
  {
   "cell_type": "markdown",
   "id": "7b01c6ed",
   "metadata": {},
   "source": [
    "# Regular Expressions\n",
    "- Also called REs, or regexes, or regex patterns\n",
    "- It is an algebraic notations for distinguishing a set of strings\n",
    "- Useful for searching\n",
    "- Formally, a search function based on regular expressions will search through the ***Corpus***, returning on the matching strings \n",
    "- A corpus can be a string, a document, or a collection of documents (web pages, product reviews, collectiion of news articles) "
   ]
  },
  {
   "cell_type": "markdown",
   "id": "d65ba82b",
   "metadata": {},
   "source": [
    "### Meta Characters\n",
    "- Some special characters are characters that do not match themselves as seen but have special meanings when used in the regular expressions. Some of them are:\n",
    "\n",
    "| Wild Card | Description         \n",
    "| :-:       |:-------------\n",
    "| **^**     |Caret symbol specifies that the match must start at the beginning of the string, and in MULTILINE mode also matches immediately after each newline<br>- `^b` will check if the string starts with 'b' such as baba, boss, basic, b, by, etc.<br>- `^si` will check if the string starts with 'si' such as simple, sister, si, etc.\n",
    "| **$**     |Specifies that the match must occur at the end of the string <br> - `s$` will check for the string that ends with a such as geeks, ends, s, etc.<br>- `ing$` will check for the string that ends with ing such as going, seeing, ing, etc.\n",
    "| **.**     |Represent a single occurrance of any character except new line <br> - `a.b` will check for the string that contains any character at the place of the dot such as acb, acbd, abbb, etc<br> - `..` will check if the string contains at least 2 characters\n",
    "| **\\\\**    |Used to drop special meaning of a character following it or used to refer to a special character. <br> - Since dot `(.)` is a metacharacter, so if you want to search it in a string you have to use the backslash `(\\)` just before the dot `(.)`  so that it will lose its specialty. \n",
    "| **[...]** |Matches a single character in the listed set. If caret is the first character inside it, it means negation<br>- `[abc]` means match any single character out of this set<br>- `[123]` means match any single digit out of this set<br>- `[a-z]` means match any single character out of lower case alphabets<br>- `[0-9]` means match any single digit out of this set<br>- `[^0-3]` means any number except 0, 1, 2, or 3<br>- `[^a-c]` means any character except a, b, or c<br>- [0-5][0-9] will match all the two-digits numbers from 00 to 59<br>- `[0-9A-Fa-f]` will match any hexadecimal digit.<br>- Special characters lose their special meaning inside sets, so `[(+*)]` will match any of the literal characters '(', '+', '*', or ')'.<br>- To match a literal ']' inside a set, precede it with a backslash, or place it at the beginning of the set, so `[()[\\]{}]` and `[]()[{}]` will both match parenthesis.\n",
    "| **^[...]**|Matches any character in the set at the beginning of the string\n",
    "| **[^...]**|Matches any character except those NOT in the listed set (negation)\n",
    "| **\\|**    |Or symbol works as the OR operator meaning it checks whether the pattern before or after the or symbol is present in the string or not<br>- `a\\|b` will match any string that contains a or b such as acd, bcd, abcd, etc.<br>- To match a literal '\\|', use `\\|`, or enclose it inside a character class, as in `[\\|]`.\n",
    "| **( )**   |Used to capture and group "
   ]
  },
  {
   "cell_type": "markdown",
   "id": "24d8c065",
   "metadata": {},
   "source": [
    "### Quantifers\n",
    "- - A quantifier metacharacter immediately follows a portion of a <regex> and indicates how many times that portion must occur for the match to succeed. *, +, ?, {m}, {m,n}. When used alone, the quantifier metacharacters *, +, and ? are all greedy, meaning they produce the longest possible match. \n",
    "\n",
    "| Wild Card | Description         \n",
    "| :-:       |:-------------\n",
    "| **\\***    |The preceding character/expression is repeated zero or more times\n",
    "| **+**     |The preceding character/expression is repeated one or more times, <br>- `ab+c` will be matched for the string abc, abbc, dabc, but will not be matched for ac, abdc because there is no b in ac and d is not followed by c in abdc.\n",
    "| **?**     |The preceding character/expression is optional (zero or one occurrence). <br>- `ab?c` will be matched for the string ac, abc, acb, dabc, dac but will not be matched for abbc because there are two b. Similarly, it will not be matched for abdc because b is not followed by c.\n",
    "| **{n,m}** |The preceding character/expression is repeated from n to m times (both enclusive). <br> - `a{2,4}` will be matched for the string aaab, baaaac, gaad, but will not be matched for strings like abc, bc because there is only one a or no a in both the cases.\n",
    "| **{n}**   |The preceding character/expression is repeated n times.<br>- `a{6}` will match exactly six 'a' characters, but not five.           \n",
    "| **{n,}**  |The preceding character/expression is repeated atleast n times \n",
    "| **{,m}**  |The preceding character/expression is repeated upto m times"
   ]
  },
  {
   "cell_type": "markdown",
   "id": "0df4895d",
   "metadata": {},
   "source": [
    "### Escape Codes\n",
    "## Escape Codes\n",
    "- You can use special escape codes to find specific types of patterns in your data, such as digits, non-digits,whitespace, and more. \n",
    "- The following list of special sequences isn’t complete.\n",
    "\n",
    "| Code | Description         \n",
    "| :-:  |:-------------\n",
    "| **\\d** |Matches any decimal digit. This is equivalent to [0-9]                              \n",
    "| **\\D** |Matches any non-digit character. This is equivalent to [^0-9] or [^\\d]                           \n",
    "| **\\s** |Matches any whitespace character. This is equivalent to [ \\r\\n\\t\\b\\f]                \n",
    "| **\\S** |Matches any non-whitespace character. This is equivalent to [^ \\r\\t\\n\\f] or [^\\s]                         \n",
    "| **\\w** |Matches alphanumeric character. This is equivalent to [a-zA-Z0-9_]                  \n",
    "| **\\W** |Matches any non-alphanumeric character. This is equivalent to [^a-zA-Z0-9_] or [^\\w]                  \n",
    "| **\\b** |Matches where the specified characters are at the beginning or at the end of a word r\"\\bain\" OR r\"ain\\b\"\n",
    "| **\\B** |Matches where the specified characters are present, but NOT or at the end of a word r\"Bain\" OR r\"ain\\B\" "
   ]
  },
  {
   "cell_type": "markdown",
   "id": "d845eca8",
   "metadata": {},
   "source": [
    "### The python 're' module"
   ]
  },
  {
   "cell_type": "code",
   "execution_count": 1,
   "id": "eaf744fb",
   "metadata": {
    "scrolled": true
   },
   "outputs": [
    {
     "name": "stdout",
     "output_type": "stream",
     "text": [
      "['A', 'ASCII', 'DEBUG', 'DOTALL', 'I', 'IGNORECASE', 'L', 'LOCALE', 'M', 'MULTILINE', 'Match', 'Pattern', 'RegexFlag', 'S', 'Scanner', 'T', 'TEMPLATE', 'U', 'UNICODE', 'VERBOSE', 'X', '_MAXCACHE', '__all__', '__builtins__', '__cached__', '__doc__', '__file__', '__loader__', '__name__', '__package__', '__spec__', '__version__', '_cache', '_compile', '_compile_repl', '_expand', '_locale', '_pickle', '_special_chars_map', '_subx', 'compile', 'copyreg', 'enum', 'error', 'escape', 'findall', 'finditer', 'fullmatch', 'functools', 'match', 'purge', 'search', 'split', 'sre_compile', 'sre_parse', 'sub', 'subn', 'template']\n"
     ]
    }
   ],
   "source": [
    "import re\n",
    "print(dir(re))"
   ]
  },
  {
   "cell_type": "markdown",
   "id": "a562d32d",
   "metadata": {},
   "source": [
    "### a. The `re.compile()` Method\n",
    "- The `re.compile(pattern, flags=0)` method is used to compile a regular expression, and return a `Pattern object`.\n",
    "- Where,\n",
    "    - `pattern` is the regular expression which you want to compile that you need to search/modify in a string or may be on a corpus of documents.\n",
    "    - `flags` can have different values that can be bitwise ORed to change the attributes of `Pattern object`, like:\n",
    "        - `IGNORECASE` or `I` to do a case in-sensitive search\n",
    "        - `LOCALE` or `L` to perform a locale aware match.\n",
    "        - `MULTILINE`, `M` to do multiline matching, affectin `^` and `$`\n",
    "- Once you have an `Pattern object` representing a compiled regular expression, you can use its methods to perform various operations on a string or may be in a corpus of documents:\n",
    "    - `p.match()`: Determine if the RE matches at the beginning of the string.\n",
    "    - `p.search()`: Scan through a string, looking for any location where this RE matches.\n",
    "    - `p.findall()`: Find all substrings where the RE matches, and returns them as a list.\n",
    "    - `p.finditer()`: Find all substrings where the RE matches, and returns them as an iterator.\n",
    "    - `p.split()`: Used to split string by the occurrences of pattern.\n",
    "    - `p.sub()`: Used for for find and replace purpose.."
   ]
  },
  {
   "cell_type": "code",
   "execution_count": 3,
   "id": "894b3148",
   "metadata": {},
   "outputs": [
    {
     "name": "stdout",
     "output_type": "stream",
     "text": [
      "re.compile('[A]+[a-z]*', re.MULTILINE)\n",
      "<class 're.Pattern'>\n"
     ]
    }
   ],
   "source": [
    "import re\n",
    "p = re.compile(r\"[A]+[a-z]*\", flags = re.M)\n",
    "# The string which we want to search should start from one or more A and after that there should be zero or more a to z \n",
    "print(p)\n",
    "print(type(p))\n",
    "\n",
    "# Once you have got a your pattern object you can use it multiple methods for searching from a string "
   ]
  },
  {
   "cell_type": "markdown",
   "id": "3f231392",
   "metadata": {},
   "source": [
    "### 1) The `re.Pattern.search()` Method\n",
    "- The `re.Pattern.search(string, pos=0 endpos=9223372036854775807)` scans through string looking for a match, and return a corresponding match object instance. Return None if no position in the string matches."
   ]
  },
  {
   "cell_type": "code",
   "execution_count": 11,
   "id": "efcf3d01",
   "metadata": {},
   "outputs": [
    {
     "name": "stdout",
     "output_type": "stream",
     "text": [
      "<re.Match object; span=(4, 10), match='Araaif'>\n",
      "<class 're.Match'>\n"
     ]
    }
   ],
   "source": [
    "import re\n",
    "str1 = \"AAAAAa, Jamil and Ahmad are good at playing acrobatic games.  AAA is triple As. Arif Butt.\"\n",
    "str2 = \"Mr. Araaif, Jamil and Ahmad are good at playing acrobatic games.  AAA is triple As. Arif Butt.\"\n",
    "p = re.compile(r'[A]+[a-z]+') \n",
    "# rv = p.search(str1)\n",
    "rv = p.search(str2)\n",
    "print(rv)\n",
    "print(type(rv))"
   ]
  },
  {
   "cell_type": "markdown",
   "id": "d2de7f58",
   "metadata": {},
   "source": [
    "### 2) The `re.Pattern.match()` Method\n",
    "- The `re.Pattern.match(string, pos=0 endpos=9223372036854775807)` matches zero or more characters at the beginning of the string, and return a corresponding match object instance. Return None if no position in the string matches."
   ]
  },
  {
   "cell_type": "code",
   "execution_count": 5,
   "id": "82e8c5c8",
   "metadata": {},
   "outputs": [
    {
     "name": "stdout",
     "output_type": "stream",
     "text": [
      "None\n",
      "<class 'NoneType'>\n"
     ]
    }
   ],
   "source": [
    "import re\n",
    "str1 = \"Arif, Jamil and Ahmad are good at playing acrobatic games.  AAA is triple As. Arif Butt.\"\n",
    "str2 = \"Mr. Arif, Jamil and Ahmad are good at playing acrobatic games.  AAA is triple As. Arif Butt.\"\n",
    "p = re.compile(r'[A]+[a-z]*')\n",
    "# rv = p.match(str1)   # When generate Arif as an output\n",
    "rv = p.match(str2)     # will generate none because is not at the begining of the sentence\n",
    "print(rv)\n",
    "print(type(rv))"
   ]
  },
  {
   "cell_type": "markdown",
   "id": "6b6366f7",
   "metadata": {},
   "source": [
    "### 3). The `re.Pattern.findall()` Method\n",
    "- The `re.Pattern.findall(string, pos=0 endpos=9223372036854775807)` return a list of all non-overlapping matches of pattern in string\n",
    "- It will iterate over all the lines of the string by scanning it from left-to-right and returns a list of all non-overlapping matches in the order found. \n",
    "- If pattern does not exist, it returns an empty string. "
   ]
  },
  {
   "cell_type": "code",
   "execution_count": 14,
   "id": "abbc0aea",
   "metadata": {},
   "outputs": [
    {
     "name": "stdout",
     "output_type": "stream",
     "text": [
      "['Arif', 'Ahmad', 'AAA', 'As', 'Arif']\n"
     ]
    }
   ],
   "source": [
    "import re\n",
    "\n",
    "str1 = \"Arif, Jamil and Ahmad are good at playing acrobatic games.  AAA is triple As. Arif Butt.\"\n",
    "str2 = \"Mr. Arif, Jamil and Ahmad are good at playing acrobatic games.  AAA is triple As. Arif Butt.\"\n",
    "\n",
    "p = re.compile(r'[A]+[a-z]*')\n",
    "\n",
    "# rv = p.findall(str1)\n",
    "rv = p.findall(str2)\n",
    "print(rv)\n",
    "# for i in rv:\n",
    "#     print(i)\n",
    "# print(type(rv))"
   ]
  },
  {
   "cell_type": "markdown",
   "id": "33ca1a15",
   "metadata": {},
   "source": [
    "### 4) The `re.Pattern.finditer()` Method\n",
    "- The `re.Pattern.finditer(string, pos=0 endpos=9223372036854775807)` returns an iterator over all non-overlapping matches for the RE pattern in string. For each match, the iterator returns a match object."
   ]
  },
  {
   "cell_type": "code",
   "execution_count": 21,
   "id": "04e37d08",
   "metadata": {},
   "outputs": [
    {
     "name": "stdout",
     "output_type": "stream",
     "text": [
      "<re.Match object; span=(0, 4), match='Arif'>\n",
      "<re.Match object; span=(16, 21), match='Ahmad'>\n",
      "<re.Match object; span=(60, 63), match='AAA'>\n",
      "<re.Match object; span=(74, 76), match='As'>\n",
      "<re.Match object; span=(78, 82), match='Arif'>\n"
     ]
    }
   ],
   "source": [
    "import re\n",
    "\n",
    "str1 = \"Arif, Jamil and Ahmad are good at playing acrobatic games.  AAA is triple As. Arif Butt.\"\n",
    "str2 = \"Mr. Arif, Jamil and Ahmad are good at playing acrobatic games.  AAA is triple As. Arif Butt.\"\n",
    "\n",
    "p = re.compile(r'[A]+[a-z]*')\n",
    "rv = p.finditer(str1)\n",
    "# print(rv)\n",
    "# print(type(rv))\n",
    "for i in rv:\n",
    "    print(i)"
   ]
  },
  {
   "cell_type": "markdown",
   "id": "7571fba2",
   "metadata": {},
   "source": [
    ">- **Once we have got the iterator of `Match object`, we can iterate it using a `for` loop.**\n",
    ">- **Let us see how many match objects are there in this iterator named `matches`.**"
   ]
  },
  {
   "cell_type": "markdown",
   "id": "b241276e",
   "metadata": {},
   "source": [
    ">- **Every match object has many associated methods.**\n",
    ">- **Let us see different attributes of each match object using these methods.**"
   ]
  },
  {
   "cell_type": "markdown",
   "id": "956ccbab",
   "metadata": {},
   "source": [
    "***a.*** The **`group()`** method of the match object, return subgroups of the match (str or tuple) by indices or names. For 0 returns the entire match."
   ]
  },
  {
   "cell_type": "code",
   "execution_count": 23,
   "id": "88c52cc5",
   "metadata": {},
   "outputs": [
    {
     "name": "stdout",
     "output_type": "stream",
     "text": [
      "Arif\n",
      "Ahmad\n",
      "AAA\n",
      "As\n",
      "Arif\n"
     ]
    }
   ],
   "source": [
    "import re\n",
    "\n",
    "str1 = \"Arif, Jamil and Ahmad are good at playing acrobatic games.  AAA is triple As. Arif Butt.\"\n",
    "str2 = \"Mr. Arif, Jamil and Ahmad are good at playing acrobatic games.  AAA is triple As. Arif Butt.\"\n",
    "\n",
    "p = re.compile(r'[A]+[a-z]*')\n",
    "rv = p.finditer(str1)\n",
    "for i in rv:\n",
    "    print(i.group())"
   ]
  },
  {
   "cell_type": "markdown",
   "id": "f9c160b2",
   "metadata": {},
   "source": [
    "***b.*** The **`span(group=0)`** method of the match object, return a 2-tuple containing the start and end index (end index not inclusive)"
   ]
  },
  {
   "cell_type": "code",
   "execution_count": 24,
   "id": "56137867",
   "metadata": {},
   "outputs": [
    {
     "name": "stdout",
     "output_type": "stream",
     "text": [
      "(0, 4)\n",
      "(16, 21)\n",
      "(60, 63)\n",
      "(74, 76)\n",
      "(78, 82)\n"
     ]
    }
   ],
   "source": [
    "import re\n",
    "\n",
    "str1 = \"Arif, Jamil and Ahmad are good at playing acrobatic games.  AAA is triple As. Arif Butt.\"\n",
    "str2 = \"Mr. Arif, Jamil and Ahmad are good at playing acrobatic games.  AAA is triple As. Arif Butt.\"\n",
    "\n",
    "p = re.compile(r'[A]+[a-z]*')\n",
    "rv = p.finditer(str1)\n",
    "for i in rv:\n",
    "    print(i.span())"
   ]
  },
  {
   "cell_type": "markdown",
   "id": "81d3cf88",
   "metadata": {},
   "source": [
    "***C.*** The **`start(group=0)`** method of the match object, return index of the start of the substring matched by group."
   ]
  },
  {
   "cell_type": "code",
   "execution_count": 25,
   "id": "dd5a7ce8",
   "metadata": {},
   "outputs": [
    {
     "name": "stdout",
     "output_type": "stream",
     "text": [
      "0\n",
      "16\n",
      "60\n",
      "74\n",
      "78\n"
     ]
    }
   ],
   "source": [
    "import re\n",
    "\n",
    "str1 = \"Arif, Jamil and Ahmad are good at playing acrobatic games.  AAA is triple As. Arif Butt.\"\n",
    "str2 = \"Mr. Arif, Jamil and Ahmad are good at playing acrobatic games.  AAA is triple As. Arif Butt.\"\n",
    "\n",
    "p = re.compile(r'[A]+[a-z]*')\n",
    "rv = p.finditer(str1)\n",
    "for i in rv:\n",
    "    print(i.start())"
   ]
  },
  {
   "cell_type": "markdown",
   "id": "3aa0f534",
   "metadata": {},
   "source": [
    "***d.*** The `end(group=0)` method of the match object, return index of the end of the substring matched by group."
   ]
  },
  {
   "cell_type": "code",
   "execution_count": 26,
   "id": "4cd1d45c",
   "metadata": {},
   "outputs": [
    {
     "name": "stdout",
     "output_type": "stream",
     "text": [
      "4\n",
      "21\n",
      "63\n",
      "76\n",
      "82\n"
     ]
    }
   ],
   "source": [
    "import re\n",
    "\n",
    "str1 = \"Arif, Jamil and Ahmad are good at playing acrobatic games.  AAA is triple As. Arif Butt.\"\n",
    "str2 = \"Mr. Arif, Jamil and Ahmad are good at playing acrobatic games.  AAA is triple As. Arif Butt.\"\n",
    "\n",
    "p = re.compile(r'[A]+[a-z]*')\n",
    "rv = p.finditer(str1)\n",
    "for i in rv:\n",
    "    print(i.end())"
   ]
  },
  {
   "cell_type": "markdown",
   "id": "717358a5",
   "metadata": {},
   "source": [
    "## Practical Examples"
   ]
  },
  {
   "cell_type": "code",
   "execution_count": 30,
   "id": "430f25ab",
   "metadata": {},
   "outputs": [
    {
     "name": "stdout",
     "output_type": "stream",
     "text": [
      "Mr. Arif Butt\n",
      "615-555-7164\n",
      "131 Model Town, Lahore\n",
      "01-04-1975\n",
      "arifpucit@gmail.com\n",
      "http://www.arifbutt.me\n",
      "\n",
      "\n",
      "Mrs. Nasira Jadoon\n",
      "317.615.9124\n",
      "33 Garden Town, Lahore\n",
      "20/02/1969\n",
      "nasira-123@gmail.com\n",
      "http://nasira.pu.edu.pk\n",
      "\n",
      "\n",
      "\n",
      "Mr. Khurram Shahzad\n",
      "321#521#9254\n",
      "69, A Wapda Town, Lahore\n",
      "12.09.1985\n",
      "khurram3@yahoo.com\n",
      "https://www.khurram.pu.edu.pk\n",
      "\n",
      "\n",
      "Ms Aqsa\n",
      "123.555.1997\n",
      "56 Joher Town, Lahore\n",
      "12/08/2001\n",
      "aqsa_007@gmail.com\n",
      "http://youtube.com\n",
      "\n",
      "Mr. B\n",
      "321-555-4321\n",
      "19 Township, Lahore\n",
      "05-07-2002\n",
      "mrB@yahoo.com\n",
      "http://facebook.com\n"
     ]
    }
   ],
   "source": [
    "with open('datasets/names_addresses.txt', 'r') as df:\n",
    "    print(df.read())"
   ]
  },
  {
   "cell_type": "code",
   "execution_count": 31,
   "id": "3f304cd8",
   "metadata": {},
   "outputs": [],
   "source": [
    "with open('datasets/names_addresses.txt', 'r') as df:\n",
    "    teststring = df.read()"
   ]
  },
  {
   "cell_type": "code",
   "execution_count": 33,
   "id": "550e6657",
   "metadata": {},
   "outputs": [
    {
     "data": {
      "text/plain": [
       "'Mr. Arif Butt\\n615-555-7164\\n131 Model Town, Lahore\\n01-04-1975\\narifpucit@gmail.com\\nhttp://www.arifbutt.me\\n\\n\\nMrs. Nasira Jadoon\\n317.615.9124\\n33 Garden Town, Lahore\\n20/02/1969\\nnasira-123@gmail.com\\nhttp://nasira.pu.edu.pk\\n\\n\\n\\nMr. Khurram Shahzad\\n321#521#9254\\n69, A Wapda Town, Lahore\\n12.09.1985\\nkhurram3@yahoo.com\\nhttps://www.khurram.pu.edu.pk\\n\\n\\nMs Aqsa\\n123.555.1997\\n56 Joher Town, Lahore\\n12/08/2001\\naqsa_007@gmail.com\\nhttp://youtube.com\\n\\nMr. B\\n321-555-4321\\n19 Township, Lahore\\n05-07-2002\\nmrB@yahoo.com\\nhttp://facebook.com'"
      ]
     },
     "execution_count": 33,
     "metadata": {},
     "output_type": "execute_result"
    }
   ],
   "source": [
    "teststring"
   ]
  },
  {
   "cell_type": "markdown",
   "id": "39f1498f",
   "metadata": {},
   "source": [
    "#### Searching Names"
   ]
  },
  {
   "cell_type": "code",
   "execution_count": 53,
   "id": "96918dfa",
   "metadata": {},
   "outputs": [
    {
     "name": "stdout",
     "output_type": "stream",
     "text": [
      "Mr. Arif Butt\n",
      "\n",
      "Mrs. Nasira Jadoon\n",
      "\n",
      "Mr. Khurram Shahzad\n",
      "\n",
      "Ms Aqsa\n",
      "\n",
      "Mr. B\n",
      "\n"
     ]
    }
   ],
   "source": [
    "import re\n",
    "p = re.compile(r'(Mr|Ms|Mrs)\\.?\\s\\D+')\n",
    "rv = p.finditer(teststring)\n",
    "for i in rv:\n",
    "    print(i.group())"
   ]
  },
  {
   "cell_type": "markdown",
   "id": "4281866b",
   "metadata": {},
   "source": [
    "#### Searching DoB"
   ]
  },
  {
   "cell_type": "code",
   "execution_count": 59,
   "id": "c928f4c4",
   "metadata": {},
   "outputs": [
    {
     "name": "stdout",
     "output_type": "stream",
     "text": [
      "1975\n",
      "1969\n",
      "1985\n",
      "2001\n",
      "2002\n"
     ]
    }
   ],
   "source": [
    "import re\n",
    "p = re.compile(r'(\\d{2}).(\\d{2}).(\\d{4})')\n",
    "\n",
    "rv = p.finditer(teststring)\n",
    "for i in rv:\n",
    "#     print(i.group())\n",
    "#     print(i.group(1))\n",
    "#     print(i.group(2))\n",
    "    print(i.group(3))"
   ]
  },
  {
   "cell_type": "markdown",
   "id": "02824d0a",
   "metadata": {},
   "source": [
    "#### Searching emails and phone numbers"
   ]
  },
  {
   "cell_type": "code",
   "execution_count": 68,
   "id": "3b1b3120",
   "metadata": {},
   "outputs": [
    {
     "name": "stdout",
     "output_type": "stream",
     "text": [
      ".com\n",
      ".com\n",
      ".com\n",
      ".com\n",
      ".com\n"
     ]
    }
   ],
   "source": [
    "import re\n",
    "p = re.compile(r'(\\w+)@([a-z]+)(\\.[a-zA-Z]{2,3})')\n",
    "rv = p.finditer(teststring)\n",
    "for i in rv:\n",
    "#         print(i.group())\n",
    "#     print(i.group(1))\n",
    "#     print(i.group(2))\n",
    "    print(i.group(3))\n",
    "    "
   ]
  },
  {
   "cell_type": "code",
   "execution_count": 71,
   "id": "d027284a",
   "metadata": {},
   "outputs": [
    {
     "name": "stdout",
     "output_type": "stream",
     "text": [
      "615-555-7164\n",
      "317.615.9124\n",
      "321#521#9254\n",
      "123.555.1997\n",
      "321-555-4321\n"
     ]
    }
   ],
   "source": [
    "import re\n",
    "p = re.compile(r'(\\d{3}).(\\d{3}).(\\d{4})')\n",
    "rv = p.finditer(teststring)\n",
    "for i in rv:\n",
    "        print(i.group())\n",
    "#     print(i.group(1))\n",
    "#     print(i.group(2))\n",
    "#     print(i.group(3))"
   ]
  },
  {
   "cell_type": "markdown",
   "id": "84a22f85",
   "metadata": {},
   "source": [
    "#### Searching URLS"
   ]
  },
  {
   "cell_type": "code",
   "execution_count": 73,
   "id": "91f5d46d",
   "metadata": {},
   "outputs": [
    {
     "name": "stdout",
     "output_type": "stream",
     "text": [
      "http://www.arifbutt.me\n",
      "http://nasira.pu\n",
      "https://www.khurram.pu\n",
      "http://youtube.com\n",
      "http://facebook.com\n"
     ]
    }
   ],
   "source": [
    "import re\n",
    "p = re.compile(r'https?\\://(www\\.)?\\w+\\.\\w+')\n",
    "rv = p.finditer(teststring)\n",
    "for i in rv:\n",
    "        print(i.group())\n",
    "#     print(i.group(1))\n",
    "#     print(i.group(2))\n",
    "#     print(i.group(3))"
   ]
  }
 ],
 "metadata": {
  "kernelspec": {
   "display_name": "Python 3 (ipykernel)",
   "language": "python",
   "name": "python3"
  },
  "language_info": {
   "codemirror_mode": {
    "name": "ipython",
    "version": 3
   },
   "file_extension": ".py",
   "mimetype": "text/x-python",
   "name": "python",
   "nbconvert_exporter": "python",
   "pygments_lexer": "ipython3",
   "version": "3.10.9"
  }
 },
 "nbformat": 4,
 "nbformat_minor": 5
}
