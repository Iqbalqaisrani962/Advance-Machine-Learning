{
 "cells": [
  {
   "cell_type": "markdown",
   "id": "4c491c6d",
   "metadata": {},
   "source": [
    "# Feature Scaling"
   ]
  },
  {
   "cell_type": "markdown",
   "id": "c03d1b52",
   "metadata": {},
   "source": [
    "***Data Preprocessing and Feature Engineering***\n",
    "1) Detecting and Handling Outliers\n",
    "2) Missing Values Imputation\n",
    "3) Encoding Categorical Features\n",
    "4) Feature Scaling\n",
    "5) Extracting Information\n",
    "6) Combining Information"
   ]
  },
  {
   "cell_type": "markdown",
   "id": "cb1415c4",
   "metadata": {},
   "source": [
    "- Feature scaling is a process of transforming numerical columns to a common scale"
   ]
  },
  {
   "cell_type": "markdown",
   "id": "bb9c2103",
   "metadata": {},
   "source": [
    "#### Types of Feature Scaling\n",
    "- ***1) Normalization***\n",
    "- It is a scaling of data from the original range, so that all the values are within the new range of 0 and 1\n",
    "- Affected by the outliers\n",
    "    1) MaxAbsScaler\n",
    "    2) MinMaxScaler\n",
    "    3) Robust Scaler\n",
    "- ***2) Standardization (Z-Score Normalization)***\n",
    "- It is a scaling of data from the original range, so that all the values are centered around mean within a standard deviation of 1\n",
    "- ***Note***\n",
    "   - After scaling, the distribution of the data does not change\n",
    "   - Use standardization, if the data is normally distributed, otherwise use normalization\n",
    "   - Standardization is more robust to outliers\n",
    "   "
   ]
  },
  {
   "cell_type": "markdown",
   "id": "718d03e6",
   "metadata": {},
   "source": [
    "### Need of Scaling the Data\n",
    "- Many machine learning algorithms perform better or converge faster, when features are on a relatively similar scale and close to normally distributed \n",
    "- All distance based ML algorithms (KNN, K-means, SVM) require feature scaling\n",
    "- All Gradient Based ML algorithms (Linear Regression, Logistic Regression, Neural Network) require feature scaling\n",
    "- Principal Components analysis also require feature scaling as PCA tries to get the features with maximum variance, and the variance is high for high magnitude features \n",
    "- Tree Bases Algorithms like Decision Tree, Random Forest and Gradient Boosting, as well as Naive Bayes and Linear Discriminant Analysis do not require features scaling "
   ]
  },
  {
   "cell_type": "markdown",
   "id": "84fb6f21",
   "metadata": {},
   "source": [
    "- sklearn.preprocessing\n",
    "    - MaxAbsScaller\n",
    "    - MinMaxScaler\n",
    "    - RobustScaller\n",
    "    - StandardScaller"
   ]
  },
  {
   "cell_type": "markdown",
   "id": "beb3a289",
   "metadata": {},
   "source": [
    "#### Practical Example"
   ]
  },
  {
   "cell_type": "code",
   "execution_count": 1,
   "id": "fd2457a3",
   "metadata": {
    "scrolled": true
   },
   "outputs": [
    {
     "data": {
      "text/html": [
       "<div>\n",
       "<style scoped>\n",
       "    .dataframe tbody tr th:only-of-type {\n",
       "        vertical-align: middle;\n",
       "    }\n",
       "\n",
       "    .dataframe tbody tr th {\n",
       "        vertical-align: top;\n",
       "    }\n",
       "\n",
       "    .dataframe thead th {\n",
       "        text-align: right;\n",
       "    }\n",
       "</style>\n",
       "<table border=\"1\" class=\"dataframe\">\n",
       "  <thead>\n",
       "    <tr style=\"text-align: right;\">\n",
       "      <th></th>\n",
       "      <th>f1</th>\n",
       "      <th>f2</th>\n",
       "    </tr>\n",
       "  </thead>\n",
       "  <tbody>\n",
       "    <tr>\n",
       "      <th>0</th>\n",
       "      <td>15</td>\n",
       "      <td>1</td>\n",
       "    </tr>\n",
       "    <tr>\n",
       "      <th>1</th>\n",
       "      <td>18</td>\n",
       "      <td>3</td>\n",
       "    </tr>\n",
       "    <tr>\n",
       "      <th>2</th>\n",
       "      <td>12</td>\n",
       "      <td>2</td>\n",
       "    </tr>\n",
       "    <tr>\n",
       "      <th>3</th>\n",
       "      <td>10</td>\n",
       "      <td>5</td>\n",
       "    </tr>\n",
       "  </tbody>\n",
       "</table>\n",
       "</div>"
      ],
      "text/plain": [
       "   f1  f2\n",
       "0  15   1\n",
       "1  18   3\n",
       "2  12   2\n",
       "3  10   5"
      ]
     },
     "execution_count": 1,
     "metadata": {},
     "output_type": "execute_result"
    }
   ],
   "source": [
    "import pandas as pd\n",
    "df = pd.DataFrame({'f1': [15,18,12,10],\n",
    "                  'f2': [1,3,2,5]})\n",
    "df"
   ]
  },
  {
   "cell_type": "markdown",
   "id": "6a2637fc",
   "metadata": {},
   "source": [
    "#### MaxAbsScaller\n",
    "- MaxAbsScalar divide each data point by the absolute maximum, so that the maximal absolute value of each feature in the training set is 1.0.\n",
    "- It does not shift/center the data and thus does not destroy any sparsity.\n",
    "- On positive-only data, this Scaler behaves similarly to Min Max Scaler and, therefore, also suffers from the presence of significant outliers.\n",
    "- 𝑥 = 𝑥𝑖 / 𝑚𝑎𝑥(|𝑥|)"
   ]
  },
  {
   "cell_type": "code",
   "execution_count": 3,
   "id": "a184c88a",
   "metadata": {},
   "outputs": [
    {
     "data": {
      "text/html": [
       "<div>\n",
       "<style scoped>\n",
       "    .dataframe tbody tr th:only-of-type {\n",
       "        vertical-align: middle;\n",
       "    }\n",
       "\n",
       "    .dataframe tbody tr th {\n",
       "        vertical-align: top;\n",
       "    }\n",
       "\n",
       "    .dataframe thead th {\n",
       "        text-align: right;\n",
       "    }\n",
       "</style>\n",
       "<table border=\"1\" class=\"dataframe\">\n",
       "  <thead>\n",
       "    <tr style=\"text-align: right;\">\n",
       "      <th></th>\n",
       "      <th>f1</th>\n",
       "      <th>f2</th>\n",
       "    </tr>\n",
       "  </thead>\n",
       "  <tbody>\n",
       "    <tr>\n",
       "      <th>0</th>\n",
       "      <td>0.833333</td>\n",
       "      <td>0.2</td>\n",
       "    </tr>\n",
       "    <tr>\n",
       "      <th>1</th>\n",
       "      <td>1.000000</td>\n",
       "      <td>0.6</td>\n",
       "    </tr>\n",
       "    <tr>\n",
       "      <th>2</th>\n",
       "      <td>0.666667</td>\n",
       "      <td>0.4</td>\n",
       "    </tr>\n",
       "    <tr>\n",
       "      <th>3</th>\n",
       "      <td>0.555556</td>\n",
       "      <td>1.0</td>\n",
       "    </tr>\n",
       "  </tbody>\n",
       "</table>\n",
       "</div>"
      ],
      "text/plain": [
       "         f1   f2\n",
       "0  0.833333  0.2\n",
       "1  1.000000  0.6\n",
       "2  0.666667  0.4\n",
       "3  0.555556  1.0"
      ]
     },
     "execution_count": 3,
     "metadata": {},
     "output_type": "execute_result"
    }
   ],
   "source": [
    "from sklearn.preprocessing import MaxAbsScaler\n",
    "scaller = MaxAbsScaler()\n",
    "arr = scaller.fit_transform(df)\n",
    "df2 = pd.DataFrame(arr, columns = ['f1', 'f2'])\n",
    "df2"
   ]
  },
  {
   "cell_type": "code",
   "execution_count": 7,
   "id": "97bf6b31",
   "metadata": {},
   "outputs": [
    {
     "data": {
      "image/png": "[encoded data removed]",
      "text/plain": [
       "<Figure size 640x480 with 1 Axes>"
      ]
     },
     "metadata": {},
     "output_type": "display_data"
    }
   ],
   "source": [
    "# Visualization before and after scaling\n",
    "from matplotlib import pyplot as plt\n",
    "fig, ax = plt.subplots()\n",
    "colors = ['red','green','blue','yellow']\n",
    "ax.scatter(x = df.f1, y = df.f2, label = 'Before Scaling', color = colors , marker = '*', s = 100)\n",
    "ax.scatter(x = df2.f1, y = df2.f2, label = 'After Scaling', color = colors , marker = 'o', s = 60)\n",
    "ax.set_xlabel(\"Feature 1\")\n",
    "ax.set_ylabel(\"Feature 2\")\n",
    "plt.title(\"MaxAbsScaler\")\n",
    "plt.legend(loc='best')\n",
    "plt.axhline(0, color='blue',alpha=0.2)\n",
    "plt.axvline(0, color='blue',alpha=0.2);\n",
    "plt.grid(True)"
   ]
  },
  {
   "cell_type": "markdown",
   "id": "ce0479db",
   "metadata": {},
   "source": [
    "#### MinMaxScaller\n",
    "- The MinMaxScalar scales and translates the feature values such that they fall in the range of [0,1] . If there are negative values, it shrinks the data within the range of [-1,1].\n",
    "- When the value of is the minimum value in the column, the numerator will be 0, and hence will be 0\n",
    "- On the other hand, when the value of is the maximum value in the column, the numerator is equal to the denominator and thus the value of will be 1\n",
    "- If the value of is between the minimum and the maximum value, then the value of will be between 0 and 1\n",
    "- This scaller responds well if the standard deviation is small and when a distribution is not Gaussian-\n",
    "- This scaller is sensitive to outliers\n",
    "- x = (x - min(x))/(max(x) - min(x))"
   ]
  },
  {
   "cell_type": "code",
   "execution_count": 8,
   "id": "4d1ebc46",
   "metadata": {},
   "outputs": [
    {
     "data": {
      "text/html": [
       "<div>\n",
       "<style scoped>\n",
       "    .dataframe tbody tr th:only-of-type {\n",
       "        vertical-align: middle;\n",
       "    }\n",
       "\n",
       "    .dataframe tbody tr th {\n",
       "        vertical-align: top;\n",
       "    }\n",
       "\n",
       "    .dataframe thead th {\n",
       "        text-align: right;\n",
       "    }\n",
       "</style>\n",
       "<table border=\"1\" class=\"dataframe\">\n",
       "  <thead>\n",
       "    <tr style=\"text-align: right;\">\n",
       "      <th></th>\n",
       "      <th>f1</th>\n",
       "      <th>f2</th>\n",
       "    </tr>\n",
       "  </thead>\n",
       "  <tbody>\n",
       "    <tr>\n",
       "      <th>0</th>\n",
       "      <td>0.625</td>\n",
       "      <td>0.00</td>\n",
       "    </tr>\n",
       "    <tr>\n",
       "      <th>1</th>\n",
       "      <td>1.000</td>\n",
       "      <td>0.50</td>\n",
       "    </tr>\n",
       "    <tr>\n",
       "      <th>2</th>\n",
       "      <td>0.250</td>\n",
       "      <td>0.25</td>\n",
       "    </tr>\n",
       "    <tr>\n",
       "      <th>3</th>\n",
       "      <td>0.000</td>\n",
       "      <td>1.00</td>\n",
       "    </tr>\n",
       "  </tbody>\n",
       "</table>\n",
       "</div>"
      ],
      "text/plain": [
       "      f1    f2\n",
       "0  0.625  0.00\n",
       "1  1.000  0.50\n",
       "2  0.250  0.25\n",
       "3  0.000  1.00"
      ]
     },
     "execution_count": 8,
     "metadata": {},
     "output_type": "execute_result"
    }
   ],
   "source": [
    "from sklearn.preprocessing import MinMaxScaler \n",
    "scaler = MinMaxScaler()\n",
    "arr = scaler.fit_transform(df)\n",
    "df2 = pd.DataFrame(arr, columns = ['f1', 'f2'])\n",
    "df2"
   ]
  },
  {
   "cell_type": "code",
   "execution_count": 9,
   "id": "f31d3808",
   "metadata": {},
   "outputs": [
    {
     "data": {
      "image/png": "[encoded data removed]",
      "text/plain": [
       "<Figure size 640x480 with 1 Axes>"
      ]
     },
     "metadata": {},
     "output_type": "display_data"
    }
   ],
   "source": [
    "# Visualization before and after scaling\n",
    "from matplotlib import pyplot as plt\n",
    "fig, ax = plt.subplots()\n",
    "colors = ['red','green','blue','yellow']\n",
    "ax.scatter(x = df.f1, y = df.f2, label = 'Before Scaling', color = colors , marker = '*', s = 100)\n",
    "ax.scatter(x = df2.f1, y = df2.f2, label = 'After Scaling', color = colors , marker = 'o', s = 60)\n",
    "ax.set_xlabel(\"Feature 1\")\n",
    "ax.set_ylabel(\"Feature 2\")\n",
    "plt.title(\"MaxAbsScaler\")\n",
    "plt.legend(loc='best')\n",
    "plt.axhline(0, color='blue',alpha=0.2)\n",
    "plt.axvline(0, color='blue',alpha=0.2);\n",
    "plt.grid(True)"
   ]
  },
  {
   "cell_type": "markdown",
   "id": "68b6764c",
   "metadata": {},
   "source": [
    "### Standard Scaler\n",
    "- StandardScaler is the industry’s go-to algorithm 🙂\n",
    "- It rescales the data (Both the scale) from original range, so that all values are centered around the mean of zero with a standard deviation of one.\n",
    "- StandardScalar assumes that you are working with normally distributed data and the outliers are not too crazy (Outliers should be handled explicitly)\n",
    "- x = (x - mean(x))/std(x)\n",
    "- ***Note:*** The values are not restricted to a particular range, although majority will fall within around mean"
   ]
  },
  {
   "cell_type": "code",
   "execution_count": 12,
   "id": "3b586a6e",
   "metadata": {},
   "outputs": [
    {
     "data": {
      "text/html": [
       "<div>\n",
       "<style scoped>\n",
       "    .dataframe tbody tr th:only-of-type {\n",
       "        vertical-align: middle;\n",
       "    }\n",
       "\n",
       "    .dataframe tbody tr th {\n",
       "        vertical-align: top;\n",
       "    }\n",
       "\n",
       "    .dataframe thead th {\n",
       "        text-align: right;\n",
       "    }\n",
       "</style>\n",
       "<table border=\"1\" class=\"dataframe\">\n",
       "  <thead>\n",
       "    <tr style=\"text-align: right;\">\n",
       "      <th></th>\n",
       "      <th>f1</th>\n",
       "      <th>f2</th>\n",
       "    </tr>\n",
       "  </thead>\n",
       "  <tbody>\n",
       "    <tr>\n",
       "      <th>0</th>\n",
       "      <td>0.412393</td>\n",
       "      <td>-1.183216</td>\n",
       "    </tr>\n",
       "    <tr>\n",
       "      <th>1</th>\n",
       "      <td>1.402136</td>\n",
       "      <td>0.169031</td>\n",
       "    </tr>\n",
       "    <tr>\n",
       "      <th>2</th>\n",
       "      <td>-0.577350</td>\n",
       "      <td>-0.507093</td>\n",
       "    </tr>\n",
       "    <tr>\n",
       "      <th>3</th>\n",
       "      <td>-1.237179</td>\n",
       "      <td>1.521278</td>\n",
       "    </tr>\n",
       "  </tbody>\n",
       "</table>\n",
       "</div>"
      ],
      "text/plain": [
       "         f1        f2\n",
       "0  0.412393 -1.183216\n",
       "1  1.402136  0.169031\n",
       "2 -0.577350 -0.507093\n",
       "3 -1.237179  1.521278"
      ]
     },
     "execution_count": 12,
     "metadata": {},
     "output_type": "execute_result"
    }
   ],
   "source": [
    "from sklearn.preprocessing import StandardScaler\n",
    "scaler = StandardScaler()\n",
    "arr = scaler.fit_transform(df)\n",
    "df2 = pd.DataFrame(arr, columns = ['f1', 'f2'])\n",
    "df2"
   ]
  },
  {
   "cell_type": "code",
   "execution_count": 13,
   "id": "e1e20873",
   "metadata": {},
   "outputs": [
    {
     "data": {
      "image/png": "[encoded data removed]",
      "text/plain": [
       "<Figure size 640x480 with 1 Axes>"
      ]
     },
     "metadata": {},
     "output_type": "display_data"
    }
   ],
   "source": [
    "# Visualization before and after scaling\n",
    "from matplotlib import pyplot as plt\n",
    "fig, ax = plt.subplots()\n",
    "colors = ['red','green','blue','yellow']\n",
    "ax.scatter(x = df.f1, y = df.f2, label = 'Before Scaling', color = colors , marker = '*', s = 100)\n",
    "ax.scatter(x = df2.f1, y = df2.f2, label = 'After Scaling', color = colors , marker = 'o', s = 60)\n",
    "ax.set_xlabel(\"Feature 1\")\n",
    "ax.set_ylabel(\"Feature 2\")\n",
    "plt.title(\"MaxAbsScaler\")\n",
    "plt.legend(loc='best')\n",
    "plt.axhline(0, color='blue',alpha=0.2)\n",
    "plt.axvline(0, color='blue',alpha=0.2);\n",
    "plt.grid(True)"
   ]
  },
  {
   "cell_type": "markdown",
   "id": "903305a2",
   "metadata": {},
   "source": [
    "### Robust Scaling\n",
    "- This scale is robust to outliers\n",
    "- Outliers can skew a probability distribution and make data scaling using standardization difficult as the calculated mean and standard deviation will be skewed by the presence of the outliers.\n",
    "- Instead of subtracting the mean, you subtract data values from the median (50th percentile), and instead of dividing by the standard deviation, you divide by Inter Quartile Range (IQR)\n",
    "- x = (x - median(x))/IQR"
   ]
  },
  {
   "cell_type": "code",
   "execution_count": 14,
   "id": "74f1cafc",
   "metadata": {},
   "outputs": [
    {
     "data": {
      "text/html": [
       "<div>\n",
       "<style scoped>\n",
       "    .dataframe tbody tr th:only-of-type {\n",
       "        vertical-align: middle;\n",
       "    }\n",
       "\n",
       "    .dataframe tbody tr th {\n",
       "        vertical-align: top;\n",
       "    }\n",
       "\n",
       "    .dataframe thead th {\n",
       "        text-align: right;\n",
       "    }\n",
       "</style>\n",
       "<table border=\"1\" class=\"dataframe\">\n",
       "  <thead>\n",
       "    <tr style=\"text-align: right;\">\n",
       "      <th></th>\n",
       "      <th>f1</th>\n",
       "      <th>f2</th>\n",
       "    </tr>\n",
       "  </thead>\n",
       "  <tbody>\n",
       "    <tr>\n",
       "      <th>0</th>\n",
       "      <td>0.352941</td>\n",
       "      <td>-0.857143</td>\n",
       "    </tr>\n",
       "    <tr>\n",
       "      <th>1</th>\n",
       "      <td>1.058824</td>\n",
       "      <td>0.285714</td>\n",
       "    </tr>\n",
       "    <tr>\n",
       "      <th>2</th>\n",
       "      <td>-0.352941</td>\n",
       "      <td>-0.285714</td>\n",
       "    </tr>\n",
       "    <tr>\n",
       "      <th>3</th>\n",
       "      <td>-0.823529</td>\n",
       "      <td>1.428571</td>\n",
       "    </tr>\n",
       "  </tbody>\n",
       "</table>\n",
       "</div>"
      ],
      "text/plain": [
       "         f1        f2\n",
       "0  0.352941 -0.857143\n",
       "1  1.058824  0.285714\n",
       "2 -0.352941 -0.285714\n",
       "3 -0.823529  1.428571"
      ]
     },
     "execution_count": 14,
     "metadata": {},
     "output_type": "execute_result"
    }
   ],
   "source": [
    "from sklearn.preprocessing import RobustScaler\n",
    "scaler = RobustScaler()\n",
    "arr = scaler.fit_transform(df)\n",
    "df2 = pd.DataFrame(arr, columns = ['f1', 'f2'])\n",
    "df2\n"
   ]
  },
  {
   "cell_type": "code",
   "execution_count": null,
   "id": "13e93146",
   "metadata": {},
   "outputs": [],
   "source": []
  }
 ],
 "metadata": {
  "kernelspec": {
   "display_name": "Python 3 (ipykernel)",
   "language": "python",
   "name": "python3"
  },
  "language_info": {
   "codemirror_mode": {
    "name": "ipython",
    "version": 3
   },
   "file_extension": ".py",
   "mimetype": "text/x-python",
   "name": "python",
   "nbconvert_exporter": "python",
   "pygments_lexer": "ipython3",
   "version": "3.10.9"
  }
 },
 "nbformat": 4,
 "nbformat_minor": 5
}
