{
 "cells": [
  {
   "cell_type": "code",
   "execution_count": 1,
   "id": "bad09c3a",
   "metadata": {},
   "outputs": [],
   "source": [
    "import numpy as np\n",
    "import pandas as pd\n",
    "from sklearn.impute import SimpleImputer\n",
    "from sklearn.preprocessing import OneHotEncoder\n",
    "from sklearn.preprocessing import LabelEncoder\n",
    "from sklearn.preprocessing import OrdinalEncoder\n",
    "from sklearn.compose import ColumnTransformer\n",
    "from sklearn.model_selection import train_test_split"
   ]
  },
  {
   "cell_type": "code",
   "execution_count": 2,
   "id": "c09e43b4",
   "metadata": {},
   "outputs": [
    {
     "data": {
      "text/html": [
       "<div>\n",
       "<style scoped>\n",
       "    .dataframe tbody tr th:only-of-type {\n",
       "        vertical-align: middle;\n",
       "    }\n",
       "\n",
       "    .dataframe tbody tr th {\n",
       "        vertical-align: top;\n",
       "    }\n",
       "\n",
       "    .dataframe thead th {\n",
       "        text-align: right;\n",
       "    }\n",
       "</style>\n",
       "<table border=\"1\" class=\"dataframe\">\n",
       "  <thead>\n",
       "    <tr style=\"text-align: right;\">\n",
       "      <th></th>\n",
       "      <th>gender</th>\n",
       "      <th>city</th>\n",
       "      <th>age</th>\n",
       "      <th>bp</th>\n",
       "      <th>cough</th>\n",
       "      <th>disease</th>\n",
       "    </tr>\n",
       "  </thead>\n",
       "  <tbody>\n",
       "    <tr>\n",
       "      <th>0</th>\n",
       "      <td>Male</td>\n",
       "      <td>Lahore</td>\n",
       "      <td>60.0</td>\n",
       "      <td>low</td>\n",
       "      <td>Moderate</td>\n",
       "      <td>Yes</td>\n",
       "    </tr>\n",
       "    <tr>\n",
       "      <th>1</th>\n",
       "      <td>Male</td>\n",
       "      <td>Islamabad</td>\n",
       "      <td>27.0</td>\n",
       "      <td>low</td>\n",
       "      <td>Mild</td>\n",
       "      <td>No</td>\n",
       "    </tr>\n",
       "    <tr>\n",
       "      <th>2</th>\n",
       "      <td>Male</td>\n",
       "      <td>Islamabad</td>\n",
       "      <td>NaN</td>\n",
       "      <td>normal</td>\n",
       "      <td>Strong</td>\n",
       "      <td>No</td>\n",
       "    </tr>\n",
       "    <tr>\n",
       "      <th>3</th>\n",
       "      <td>Female</td>\n",
       "      <td>Lahore</td>\n",
       "      <td>31.0</td>\n",
       "      <td>high</td>\n",
       "      <td>Moderate</td>\n",
       "      <td>Yes</td>\n",
       "    </tr>\n",
       "    <tr>\n",
       "      <th>4</th>\n",
       "      <td>Female</td>\n",
       "      <td>Karachi</td>\n",
       "      <td>65.0</td>\n",
       "      <td>high</td>\n",
       "      <td>Mild</td>\n",
       "      <td>No</td>\n",
       "    </tr>\n",
       "  </tbody>\n",
       "</table>\n",
       "</div>"
      ],
      "text/plain": [
       "   gender       city   age      bp     cough disease\n",
       "0    Male     Lahore  60.0     low  Moderate     Yes\n",
       "1    Male  Islamabad  27.0     low      Mild      No\n",
       "2    Male  Islamabad   NaN  normal    Strong      No\n",
       "3  Female     Lahore  31.0    high  Moderate     Yes\n",
       "4  Female    Karachi  65.0    high      Mild      No"
      ]
     },
     "execution_count": 2,
     "metadata": {},
     "output_type": "execute_result"
    }
   ],
   "source": [
    "df = pd.read_csv('datasets/disease.csv')\n",
    "df.head()"
   ]
  },
  {
   "cell_type": "code",
   "execution_count": 26,
   "id": "c827705b",
   "metadata": {},
   "outputs": [
    {
     "data": {
      "text/html": [
       "<div>\n",
       "<style scoped>\n",
       "    .dataframe tbody tr th:only-of-type {\n",
       "        vertical-align: middle;\n",
       "    }\n",
       "\n",
       "    .dataframe tbody tr th {\n",
       "        vertical-align: top;\n",
       "    }\n",
       "\n",
       "    .dataframe thead th {\n",
       "        text-align: right;\n",
       "    }\n",
       "</style>\n",
       "<table border=\"1\" class=\"dataframe\">\n",
       "  <thead>\n",
       "    <tr style=\"text-align: right;\">\n",
       "      <th></th>\n",
       "      <th>gender</th>\n",
       "      <th>city</th>\n",
       "      <th>bp</th>\n",
       "      <th>cough</th>\n",
       "      <th>age</th>\n",
       "      <th>disease</th>\n",
       "    </tr>\n",
       "  </thead>\n",
       "  <tbody>\n",
       "    <tr>\n",
       "      <th>0</th>\n",
       "      <td>Male</td>\n",
       "      <td>Lahore</td>\n",
       "      <td>low</td>\n",
       "      <td>Moderate</td>\n",
       "      <td>60.0</td>\n",
       "      <td>Yes</td>\n",
       "    </tr>\n",
       "    <tr>\n",
       "      <th>1</th>\n",
       "      <td>Male</td>\n",
       "      <td>Islamabad</td>\n",
       "      <td>low</td>\n",
       "      <td>Mild</td>\n",
       "      <td>27.0</td>\n",
       "      <td>No</td>\n",
       "    </tr>\n",
       "    <tr>\n",
       "      <th>2</th>\n",
       "      <td>Male</td>\n",
       "      <td>Islamabad</td>\n",
       "      <td>normal</td>\n",
       "      <td>Strong</td>\n",
       "      <td>NaN</td>\n",
       "      <td>No</td>\n",
       "    </tr>\n",
       "    <tr>\n",
       "      <th>3</th>\n",
       "      <td>Female</td>\n",
       "      <td>Lahore</td>\n",
       "      <td>high</td>\n",
       "      <td>Moderate</td>\n",
       "      <td>31.0</td>\n",
       "      <td>Yes</td>\n",
       "    </tr>\n",
       "    <tr>\n",
       "      <th>4</th>\n",
       "      <td>Female</td>\n",
       "      <td>Karachi</td>\n",
       "      <td>high</td>\n",
       "      <td>Mild</td>\n",
       "      <td>65.0</td>\n",
       "      <td>No</td>\n",
       "    </tr>\n",
       "  </tbody>\n",
       "</table>\n",
       "</div>"
      ],
      "text/plain": [
       "   gender       city      bp     cough   age disease\n",
       "0    Male     Lahore     low  Moderate  60.0     Yes\n",
       "1    Male  Islamabad     low      Mild  27.0      No\n",
       "2    Male  Islamabad  normal    Strong   NaN      No\n",
       "3  Female     Lahore    high  Moderate  31.0     Yes\n",
       "4  Female    Karachi    high      Mild  65.0      No"
      ]
     },
     "execution_count": 26,
     "metadata": {},
     "output_type": "execute_result"
    }
   ],
   "source": [
    "df = df[['gender', 'city', 'bp', 'cough', 'age', 'disease']]\n",
    "df.head()"
   ]
  },
  {
   "cell_type": "code",
   "execution_count": 27,
   "id": "c404dab1",
   "metadata": {},
   "outputs": [
    {
     "data": {
      "text/plain": [
       "(80, 20, 80, 20)"
      ]
     },
     "execution_count": 27,
     "metadata": {},
     "output_type": "execute_result"
    }
   ],
   "source": [
    "y = df['disease']\n",
    "X = df.drop('disease', axis = 1)\n",
    "X_train, X_test, y_train, y_test = train_test_split(X, y, test_size = 0.2, random_state = 54)\n",
    "len(X_train), len(X_test), len(y_train), len(y_test)"
   ]
  },
  {
   "cell_type": "code",
   "execution_count": 29,
   "id": "8b6a74ee",
   "metadata": {},
   "outputs": [
    {
     "data": {
      "text/html": [
       "<div>\n",
       "<style scoped>\n",
       "    .dataframe tbody tr th:only-of-type {\n",
       "        vertical-align: middle;\n",
       "    }\n",
       "\n",
       "    .dataframe tbody tr th {\n",
       "        vertical-align: top;\n",
       "    }\n",
       "\n",
       "    .dataframe thead th {\n",
       "        text-align: right;\n",
       "    }\n",
       "</style>\n",
       "<table border=\"1\" class=\"dataframe\">\n",
       "  <thead>\n",
       "    <tr style=\"text-align: right;\">\n",
       "      <th></th>\n",
       "      <th>gender</th>\n",
       "      <th>city</th>\n",
       "      <th>bp</th>\n",
       "      <th>cough</th>\n",
       "      <th>age</th>\n",
       "    </tr>\n",
       "  </thead>\n",
       "  <tbody>\n",
       "    <tr>\n",
       "      <th>90</th>\n",
       "      <td>Female</td>\n",
       "      <td>Islamabad</td>\n",
       "      <td>low</td>\n",
       "      <td>Moderate</td>\n",
       "      <td>59.0</td>\n",
       "    </tr>\n",
       "    <tr>\n",
       "      <th>31</th>\n",
       "      <td>Male</td>\n",
       "      <td>Lahore</td>\n",
       "      <td>normal</td>\n",
       "      <td>Mild</td>\n",
       "      <td>NaN</td>\n",
       "    </tr>\n",
       "    <tr>\n",
       "      <th>58</th>\n",
       "      <td>Male</td>\n",
       "      <td>Karachi</td>\n",
       "      <td>low</td>\n",
       "      <td>Strong</td>\n",
       "      <td>23.0</td>\n",
       "    </tr>\n",
       "    <tr>\n",
       "      <th>74</th>\n",
       "      <td>Female</td>\n",
       "      <td>Islamabad</td>\n",
       "      <td>high</td>\n",
       "      <td>Strong</td>\n",
       "      <td>34.0</td>\n",
       "    </tr>\n",
       "    <tr>\n",
       "      <th>89</th>\n",
       "      <td>Male</td>\n",
       "      <td>NaN</td>\n",
       "      <td>low</td>\n",
       "      <td>Strong</td>\n",
       "      <td>46.0</td>\n",
       "    </tr>\n",
       "  </tbody>\n",
       "</table>\n",
       "</div>"
      ],
      "text/plain": [
       "    gender       city      bp     cough   age\n",
       "90  Female  Islamabad     low  Moderate  59.0\n",
       "31    Male     Lahore  normal      Mild   NaN\n",
       "58    Male    Karachi     low    Strong  23.0\n",
       "74  Female  Islamabad    high    Strong  34.0\n",
       "89    Male        NaN     low    Strong  46.0"
      ]
     },
     "execution_count": 29,
     "metadata": {},
     "output_type": "execute_result"
    }
   ],
   "source": [
    "X_train.head()"
   ]
  },
  {
   "cell_type": "code",
   "execution_count": 30,
   "id": "1f6b97b7",
   "metadata": {},
   "outputs": [
    {
     "name": "stdout",
     "output_type": "stream",
     "text": [
      "<class 'pandas.core.frame.DataFrame'>\n",
      "Int64Index: 80 entries, 90 to 69\n",
      "Data columns (total 5 columns):\n",
      " #   Column  Non-Null Count  Dtype  \n",
      "---  ------  --------------  -----  \n",
      " 0   gender  79 non-null     object \n",
      " 1   city    78 non-null     object \n",
      " 2   bp      80 non-null     object \n",
      " 3   cough   80 non-null     object \n",
      " 4   age     69 non-null     float64\n",
      "dtypes: float64(1), object(4)\n",
      "memory usage: 3.8+ KB\n"
     ]
    }
   ],
   "source": [
    "X_train.info()"
   ]
  },
  {
   "cell_type": "code",
   "execution_count": 31,
   "id": "5b2b0d45",
   "metadata": {},
   "outputs": [],
   "source": [
    "si0 = SimpleImputer(missing_values = np.nan, strategy = 'most_frequent')\n",
    "si1 = SimpleImputer(missing_values = np.nan, strategy = 'mean')\n",
    "ohe = OneHotEncoder(drop = 'first', sparse_output = False, dtype = np.int32)\n",
    "oe = OrdinalEncoder(categories = [['low', 'normal', 'high'],['Mild', 'Moderate', 'Strong']], dtype = np.int16)"
   ]
  },
  {
   "cell_type": "code",
   "execution_count": 32,
   "id": "c530b958",
   "metadata": {},
   "outputs": [
    {
     "data": {
      "text/plain": [
       "sklearn.compose._column_transformer.ColumnTransformer"
      ]
     },
     "execution_count": 32,
     "metadata": {},
     "output_type": "execute_result"
    }
   ],
   "source": [
    "transformer = ColumnTransformer(transformers = \n",
    "                               [   \n",
    "                                 ('SiGC', si0, ['gender', 'city']),\n",
    "                                 ('SiAge', si1, ['age']),\n",
    "                                 ('ohe', ohe, )\n",
    "                               ],\n",
    "                               remainder = 'passthrough')\n",
    "type(transformer)"
   ]
  },
  {
   "cell_type": "code",
   "execution_count": 33,
   "id": "80fb2397",
   "metadata": {},
   "outputs": [],
   "source": [
    "transformer.fit(X_train)\n",
    "transformed_trained = transformer.transform(X_train)\n",
    "transformed_tested = transformer.transform(X_test)"
   ]
  },
  {
   "cell_type": "code",
   "execution_count": 34,
   "id": "eb36ee00",
   "metadata": {},
   "outputs": [
    {
     "name": "stdout",
     "output_type": "stream",
     "text": [
      "<class 'pandas.core.frame.DataFrame'>\n",
      "RangeIndex: 80 entries, 0 to 79\n",
      "Data columns (total 5 columns):\n",
      " #   Column  Non-Null Count  Dtype \n",
      "---  ------  --------------  ----- \n",
      " 0   gender  80 non-null     object\n",
      " 1   city    80 non-null     object\n",
      " 2   bp      80 non-null     object\n",
      " 3   cough   80 non-null     object\n",
      " 4   age     80 non-null     object\n",
      "dtypes: object(5)\n",
      "memory usage: 3.3+ KB\n"
     ]
    }
   ],
   "source": [
    "X_trained = pd.DataFrame(data = transformed_trained, columns = X_train.columns)\n",
    "X_trained.info()"
   ]
  },
  {
   "cell_type": "code",
   "execution_count": 35,
   "id": "c9751855",
   "metadata": {},
   "outputs": [
    {
     "data": {
      "text/html": [
       "<div>\n",
       "<style scoped>\n",
       "    .dataframe tbody tr th:only-of-type {\n",
       "        vertical-align: middle;\n",
       "    }\n",
       "\n",
       "    .dataframe tbody tr th {\n",
       "        vertical-align: top;\n",
       "    }\n",
       "\n",
       "    .dataframe thead th {\n",
       "        text-align: right;\n",
       "    }\n",
       "</style>\n",
       "<table border=\"1\" class=\"dataframe\">\n",
       "  <thead>\n",
       "    <tr style=\"text-align: right;\">\n",
       "      <th></th>\n",
       "      <th>gender</th>\n",
       "      <th>city</th>\n",
       "      <th>bp</th>\n",
       "      <th>cough</th>\n",
       "      <th>age</th>\n",
       "    </tr>\n",
       "  </thead>\n",
       "  <tbody>\n",
       "    <tr>\n",
       "      <th>0</th>\n",
       "      <td>Female</td>\n",
       "      <td>Islamabad</td>\n",
       "      <td>59.0</td>\n",
       "      <td>low</td>\n",
       "      <td>Moderate</td>\n",
       "    </tr>\n",
       "    <tr>\n",
       "      <th>1</th>\n",
       "      <td>Male</td>\n",
       "      <td>Lahore</td>\n",
       "      <td>41.942029</td>\n",
       "      <td>normal</td>\n",
       "      <td>Mild</td>\n",
       "    </tr>\n",
       "    <tr>\n",
       "      <th>2</th>\n",
       "      <td>Male</td>\n",
       "      <td>Karachi</td>\n",
       "      <td>23.0</td>\n",
       "      <td>low</td>\n",
       "      <td>Strong</td>\n",
       "    </tr>\n",
       "    <tr>\n",
       "      <th>3</th>\n",
       "      <td>Female</td>\n",
       "      <td>Islamabad</td>\n",
       "      <td>34.0</td>\n",
       "      <td>high</td>\n",
       "      <td>Strong</td>\n",
       "    </tr>\n",
       "    <tr>\n",
       "      <th>4</th>\n",
       "      <td>Male</td>\n",
       "      <td>Lahore</td>\n",
       "      <td>46.0</td>\n",
       "      <td>low</td>\n",
       "      <td>Strong</td>\n",
       "    </tr>\n",
       "  </tbody>\n",
       "</table>\n",
       "</div>"
      ],
      "text/plain": [
       "   gender       city         bp   cough       age\n",
       "0  Female  Islamabad       59.0     low  Moderate\n",
       "1    Male     Lahore  41.942029  normal      Mild\n",
       "2    Male    Karachi       23.0     low    Strong\n",
       "3  Female  Islamabad       34.0    high    Strong\n",
       "4    Male     Lahore       46.0     low    Strong"
      ]
     },
     "execution_count": 35,
     "metadata": {},
     "output_type": "execute_result"
    }
   ],
   "source": [
    "X_trained.head()"
   ]
  },
  {
   "cell_type": "code",
   "execution_count": null,
   "id": "388cf91a",
   "metadata": {},
   "outputs": [],
   "source": [
    "SimpleImputer(missing_values = np.nan, strategy = 'most_frequent')\n",
    "siA = SimpleImputer(missing_values = np.nan, strategy = 'mean')\n",
    "ohe = OneHotEncoder(drop = 'first', sparse_output = False, dtype = np.int32)\n",
    "oe = OrdinalEncoder(categories = [['low', 'normal', 'high'],['Mild', 'Moderate', 'Strong']], dtype = np.int16)"
   ]
  }
 ],
 "metadata": {
  "kernelspec": {
   "display_name": "Python 3 (ipykernel)",
   "language": "python",
   "name": "python3"
  },
  "language_info": {
   "codemirror_mode": {
    "name": "ipython",
    "version": 3
   },
   "file_extension": ".py",
   "mimetype": "text/x-python",
   "name": "python",
   "nbconvert_exporter": "python",
   "pygments_lexer": "ipython3",
   "version": "3.11.4"
  }
 },
 "nbformat": 4,
 "nbformat_minor": 5
}
